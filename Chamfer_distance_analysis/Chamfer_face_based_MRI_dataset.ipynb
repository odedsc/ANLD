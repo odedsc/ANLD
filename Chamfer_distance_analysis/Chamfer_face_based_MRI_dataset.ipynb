{
 "cells": [
  {
   "cell_type": "markdown",
   "id": "8384fd1e-ae15-4eab-9d55-aedc9527a8f5",
   "metadata": {},
   "source": [
    "# Create unified excel file"
   ]
  },
  {
   "cell_type": "code",
   "execution_count": null,
   "id": "9ceeac6a-d994-42c3-887f-98ace1d56a29",
   "metadata": {},
   "outputs": [],
   "source": [
    "# import packages\n",
    "import numpy as np\n",
    "import pandas as pd\n",
    "from datetime import datetime\n",
    "import os\n",
    "import time\n",
    "import pickle\n",
    "import plotly.express as px\n",
    "import plotly.graph_objects as go\n",
    "import plotly.io as pio\n",
    "from plotly.subplots import make_subplots"
   ]
  },
  {
   "cell_type": "code",
   "execution_count": null,
   "id": "29a9f908-44ee-4cbb-b313-9fc03b49d060",
   "metadata": {},
   "outputs": [],
   "source": [
    "datasets_folder = './MRI_datasets/'\n",
    "dataset_folder = datasets_folder+'IXI/' # 'IXI/' / 'ADNI/'\n",
    "data_folder = dataset_folder+'Chamfer_distances/face_based/'\n",
    "all_subjects_folders = os.listdir(data_folder)\n",
    "\n",
    "for i, current_filename in enumerate(all_subjects_folders):\n",
    "    if \".xlsx\" not in current_filename:\n",
    "        del all_subjects_folders[i]\n",
    "\n",
    "all_subjects_folders.sort()"
   ]
  },
  {
   "cell_type": "code",
   "execution_count": null,
   "id": "9181786c-56ed-46ac-b6bd-861889119073",
   "metadata": {},
   "outputs": [],
   "source": [
    "IXI_Chamfer_distances = np.zeros((2, len(all_subjects_folders)))\n",
    "\n",
    "for current_subject_index, current_subject_filename in enumerate(all_subjects_folders):\n",
    "    print(f\"Started {current_subject_filename}, {current_subject_index+1}/{len(all_subjects_folders)}\")\n",
    "    current_subject = current_subject_filename.split('.')[0]\n",
    "    \n",
    "    current_subject_dataframe = pd.ExcelFile(data_folder+current_subject_filename)\n",
    "    current_sheet_names = current_subject_dataframe.sheet_names\n",
    "    current_num_of_sheets = len(current_sheet_names)\n",
    "    \n",
    "    distances_index = 0\n",
    "    \n",
    "    current_subject_chamfer_distances = pd.read_excel(data_folder+current_subject_filename, sheet_name=distances_index, index_col=0)\n",
    "    \n",
    "    IXI_Chamfer_distances[:, current_subject_index] = current_subject_chamfer_distances.values.squeeze()"
   ]
  },
  {
   "cell_type": "code",
   "execution_count": null,
   "id": "af4846b0-24f1-4d33-befc-652c1d15d2c6",
   "metadata": {},
   "outputs": [],
   "source": [
    "index_names = current_subject_chamfer_distances.index\n",
    "\n",
    "IXI_column_names = [current_name[:-5] for current_name in all_subjects_folders]\n",
    "\n",
    "IXI_Chamfer_distances_df = pd.DataFrame(data=IXI_Chamfer_distances,\n",
    "                                        index=index_names,\n",
    "                                        columns=IXI_column_names)"
   ]
  },
  {
   "cell_type": "code",
   "execution_count": null,
   "id": "94f86628-8b39-4ac3-ad5b-9226a8732bc4",
   "metadata": {},
   "outputs": [],
   "source": [
    "datasets_folder = './MRI_datasets/'\n",
    "dataset_folder = datasets_folder+'ADNI/' # 'IXI/' / 'ADNI/'\n",
    "data_folder = dataset_folder+'Chamfer_distances/face_based/'\n",
    "all_subjects_folders = os.listdir(data_folder)\n",
    "\n",
    "for i, current_filename in enumerate(all_subjects_folders):\n",
    "    if \".xlsx\" not in current_filename:\n",
    "        del all_subjects_folders[i]\n",
    "\n",
    "all_subjects_folders.sort()"
   ]
  },
  {
   "cell_type": "code",
   "execution_count": null,
   "id": "b1547adb-1e20-46ef-abf1-a64df6829b9f",
   "metadata": {},
   "outputs": [],
   "source": [
    "ADNI_Chamfer_distances = np.zeros((2, len(all_subjects_folders)))\n",
    "\n",
    "for current_subject_index, current_subject_filename in enumerate(all_subjects_folders):\n",
    "    print(f\"Started {current_subject_filename}, {current_subject_index+1}/{len(all_subjects_folders)}\")\n",
    "    current_subject = current_subject_filename.split('.')[0]\n",
    "    \n",
    "    current_subject_dataframe = pd.ExcelFile(data_folder+current_subject_filename)\n",
    "    current_sheet_names = current_subject_dataframe.sheet_names\n",
    "    current_num_of_sheets = len(current_sheet_names)\n",
    "    \n",
    "    distances_index = 0\n",
    "    \n",
    "    current_subject_chamfer_distances = pd.read_excel(data_folder+current_subject_filename, sheet_name=distances_index, index_col=0)\n",
    "    \n",
    "    ADNI_Chamfer_distances[:, current_subject_index] = current_subject_chamfer_distances.values.squeeze()"
   ]
  },
  {
   "cell_type": "code",
   "execution_count": null,
   "id": "dd6a3ded-9f5e-4c20-b338-5cbd0fb7a28b",
   "metadata": {},
   "outputs": [],
   "source": [
    "index_names = current_subject_chamfer_distances.index\n",
    "\n",
    "ADNI_column_names = [current_name[:-5] for current_name in all_subjects_folders]\n",
    "\n",
    "ADNI_Chamfer_distances_df = pd.DataFrame(data=ADNI_Chamfer_distances,\n",
    "                                        index=index_names,\n",
    "                                        columns=ADNI_column_names)"
   ]
  },
  {
   "cell_type": "markdown",
   "id": "be4cc818-b404-4073-9fdf-9e9d3f16e1a2",
   "metadata": {},
   "source": [
    "## Save unified excel file"
   ]
  },
  {
   "cell_type": "code",
   "execution_count": null,
   "id": "3960f581-45b3-4248-b553-5c529364add4",
   "metadata": {},
   "outputs": [],
   "source": [
    "if 1:\n",
    "    # Create a Pandas Excel writer using XlsxWriter as the engine.\n",
    "    writer = pd.ExcelWriter('./MRI_datasets/'+'Face_based_Chamfer_distances.xlsx')\n",
    "\n",
    "    # Write each dataframe to a different worksheet.\n",
    "    IXI_Chamfer_distances_df.to_excel(writer, sheet_name='IXI')\n",
    "    ADNI_Chamfer_distances_df.to_excel(writer, sheet_name='ADNI')\n",
    "\n",
    "    # Close the Pandas Excel writer and output the Excel file.\n",
    "    writer.save()"
   ]
  }
 ],
 "metadata": {
  "kernelspec": {
   "display_name": "Python 3 (ipykernel)",
   "language": "python",
   "name": "python3"
  },
  "language_info": {
   "codemirror_mode": {
    "name": "ipython",
    "version": 3
   },
   "file_extension": ".py",
   "mimetype": "text/x-python",
   "name": "python",
   "nbconvert_exporter": "python",
   "pygments_lexer": "ipython3",
   "version": "3.8.10"
  }
 },
 "nbformat": 4,
 "nbformat_minor": 5
}
