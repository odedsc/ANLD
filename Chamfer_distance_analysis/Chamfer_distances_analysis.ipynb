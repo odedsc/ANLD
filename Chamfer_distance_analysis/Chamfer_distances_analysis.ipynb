{
 "cells": [
  {
   "cell_type": "code",
   "execution_count": null,
   "id": "2dd9ec4d-12b9-429b-bf6b-20f9b2ef341c",
   "metadata": {
    "tags": []
   },
   "outputs": [],
   "source": [
    "# import packages\n",
    "import pickle\n",
    "import numpy as np\n",
    "import plotly.express as px\n",
    "import plotly.graph_objects as go\n",
    "import pandas as pd\n",
    "import time\n",
    "from datetime import datetime\n",
    "import plotly.io as pio\n",
    "import os\n",
    "import copy"
   ]
  },
  {
   "cell_type": "code",
   "execution_count": null,
   "id": "e0ab0acc-c3bb-43f2-9e5b-5af297398808",
   "metadata": {},
   "outputs": [],
   "source": [
    "registration_scale_factor = 0.001\n",
    "num_of_light_landmarks = 21"
   ]
  },
  {
   "cell_type": "markdown",
   "id": "981407db-50ba-4f43-9997-55376a3f50e9",
   "metadata": {},
   "source": [
    "# IXI"
   ]
  },
  {
   "cell_type": "code",
   "execution_count": null,
   "id": "ade39d69-d067-4ade-9595-53cae6d3f60a",
   "metadata": {},
   "outputs": [],
   "source": [
    "datasets_folder = './MRI_datasets/'\n",
    "current_dataset_name = 'IXI'\n",
    "dataset_filename = 'Dataset_Chamfer.xlsx' #'Dataset.xlsx'"
   ]
  },
  {
   "cell_type": "code",
   "execution_count": null,
   "id": "cd33cc0a-47f2-4c5e-8cec-838b51e8e29c",
   "metadata": {},
   "outputs": [],
   "source": [
    "current_subject_dataframe = pd.ExcelFile(datasets_folder+current_dataset_name+'/'+dataset_filename)\n",
    "current_sheet_names = current_subject_dataframe.sheet_names\n",
    "current_num_of_sheets = len(current_sheet_names)\n",
    "\n",
    "skin_coordinates_index = next(i for i in range(len(current_sheet_names)) if current_sheet_names[i]=='Skin coordinates')\n",
    "skin_normals_index = next(i for i in range(len(current_sheet_names)) if current_sheet_names[i]=='Skin normals')\n",
    "skin_geodesic_distances_index = next(i for i in range(len(current_sheet_names)) if current_sheet_names[i]=='Skin distances')\n",
    "inverse_matrices_index = next(i for i in range(len(current_sheet_names)) if current_sheet_names[i]=='Inverse transformations')\n",
    "stats_index = next(i for i in range(len(current_sheet_names)) if current_sheet_names[i]=='Stats')"
   ]
  },
  {
   "cell_type": "code",
   "execution_count": null,
   "id": "58050e4f-29ed-423c-b7a1-2ead99e76ea1",
   "metadata": {},
   "outputs": [],
   "source": [
    "skin_coordinates_df = pd.read_excel(datasets_folder+current_dataset_name+'/'+dataset_filename, sheet_name=skin_coordinates_index, index_col=0)\n",
    "skin_normals_df = pd.read_excel(datasets_folder+current_dataset_name+'/'+dataset_filename, sheet_name=skin_normals_index, index_col=0)\n",
    "skin_geodesic_distances_df = pd.read_excel(datasets_folder+current_dataset_name+'/'+dataset_filename, sheet_name=skin_geodesic_distances_index, index_col=0)\n",
    "inverse_transformations_df = pd.read_excel(datasets_folder+current_dataset_name+'/'+dataset_filename, sheet_name=inverse_matrices_index, index_col=0)\n",
    "stats_df = pd.read_excel(datasets_folder+current_dataset_name+'/'+dataset_filename, sheet_name=stats_index, index_col=0)"
   ]
  },
  {
   "cell_type": "code",
   "execution_count": null,
   "id": "7abdc330-6a5c-4e25-9db2-8c57b8f93053",
   "metadata": {},
   "outputs": [],
   "source": [
    "skin_coordinates_columns_names = list(skin_coordinates_df.columns)\n",
    "only_coordinates_columns_indices = []\n",
    "\n",
    "for i in range(len(skin_coordinates_columns_names)):\n",
    "    if 'indices' not in skin_coordinates_columns_names[i]:\n",
    "        only_coordinates_columns_indices.append(i)"
   ]
  },
  {
   "cell_type": "code",
   "execution_count": null,
   "id": "0e4f4da1-31a9-4d0b-a135-f24bfbe597f8",
   "metadata": {},
   "outputs": [],
   "source": [
    "if 1:\n",
    "    max_euclidean_distance = 75e-3 # that's a lot\n",
    "\n",
    "    relevant_indices = []\n",
    "    for desired_landmark_index, desired_landmark_name in enumerate(skin_coordinates_df.index[:num_of_light_landmarks]):\n",
    "        desired_landmark_data = skin_coordinates_df.loc[desired_landmark_name, :]\n",
    "        desired_landmark_subjects_coordinates = desired_landmark_data.iloc[np.array(only_coordinates_columns_indices)]\n",
    "        desired_landmark_subjects_coordinates = np.array(desired_landmark_subjects_coordinates).reshape(-1, 3)\n",
    "        if np.where(np.isnan(desired_landmark_subjects_coordinates)==True)[0].size>0:\n",
    "            valid_coordinates_rows = np.unique(np.where(np.isnan(desired_landmark_subjects_coordinates)==False)[0])\n",
    "        else:\n",
    "            valid_coordinates_rows = np.arange(desired_landmark_subjects_coordinates.shape[0])\n",
    "\n",
    "        valid_rows = valid_coordinates_rows#np.intersect1d(valid_coordinates_rows, only_valid_score_subjects_rows)\n",
    "\n",
    "        desired_landmark_coordinates_mean = np.mean(desired_landmark_subjects_coordinates[valid_rows, :], axis=0)\n",
    "        euclidean_distances = np.linalg.norm(desired_landmark_subjects_coordinates[valid_rows, :]-desired_landmark_coordinates_mean, axis=1)\n",
    "        desired_landmark_relevant_indices = np.where(euclidean_distances<max_euclidean_distance)[0]\n",
    "        relevant_indices.append(desired_landmark_relevant_indices)\n",
    "\n",
    "    only_valid_score_subjects_rows = relevant_indices[0]\n",
    "    for desired_landmark_index, desired_landmark_name in enumerate(skin_coordinates_df.index[:num_of_light_landmarks]):\n",
    "        only_valid_score_subjects_rows = np.intersect1d(relevant_indices[desired_landmark_index], only_valid_score_subjects_rows)\n",
    "else:\n",
    "    score_ratio_threshold = 1\n",
    "    only_valid_score_subjects_rows = np.sort(np.argsort(stats_df.loc['unique_correspondence_final_loss', :].values)[:int(score_ratio_threshold*stats_df.shape[1])])"
   ]
  },
  {
   "cell_type": "code",
   "execution_count": null,
   "id": "0093c8b0-60a0-4250-8993-2d49f61503e3",
   "metadata": {},
   "outputs": [],
   "source": [
    "all_subject_names = np.array((skin_coordinates_df.columns[0::4])[only_valid_score_subjects_rows])\n",
    "only_valid_score_subject_names = [current_subject_name[:-8] for current_subject_name in all_subject_names]\n",
    "only_valid_score_subject_names = np.array(only_valid_score_subject_names)"
   ]
  },
  {
   "cell_type": "code",
   "execution_count": null,
   "id": "b39753f0-eefe-4cc2-bd42-c3007796b693",
   "metadata": {},
   "outputs": [],
   "source": [
    "if 0:\n",
    "    array_folder = datasets_folder+current_dataset_name+'/'\n",
    "    array_filename = 'only_valid_score_subjects_names'\n",
    "    array_filetype = '.npy'\n",
    "\n",
    "    array_path = array_folder + array_filename + array_filetype\n",
    "    \n",
    "    if 1:\n",
    "        with open(array_path, 'wb') as file:\n",
    "            np.save(file, only_valid_score_subject_names)\n",
    "    else:\n",
    "        with open(array_path, 'rb') as file:\n",
    "            only_valid_score_subject_names = np.load(file)"
   ]
  },
  {
   "cell_type": "code",
   "execution_count": null,
   "id": "0ce894c3-38da-40fb-8eb8-1126eb7dbb43",
   "metadata": {},
   "outputs": [],
   "source": [
    "IXI_valid_df = stats_df.loc[:, only_valid_score_subject_names]"
   ]
  },
  {
   "cell_type": "code",
   "execution_count": null,
   "id": "be143b7c-9f4a-425b-82dd-5a0482756d0f",
   "metadata": {},
   "outputs": [],
   "source": [
    "IXI_Chamfer_df = IXI_valid_df.iloc[:2, :]"
   ]
  },
  {
   "cell_type": "code",
   "execution_count": null,
   "id": "c9883163-e989-4e36-b136-76140af17e45",
   "metadata": {},
   "outputs": [],
   "source": [
    "IXI_head_based_face_chamfer_distance = IXI_Chamfer_df.iloc[0, :].values\n",
    "IXI_head_based_head_chamfer_distance = IXI_Chamfer_df.iloc[1, :].values"
   ]
  },
  {
   "cell_type": "code",
   "execution_count": null,
   "id": "bff44d8b-b0ae-413b-86df-635b0aa1745c",
   "metadata": {},
   "outputs": [],
   "source": [
    "datasets_folder = './MRI_datasets/'\n",
    "IXI_face_based_Chamfer_df = pd.read_excel(datasets_folder+'Face_based_Chamfer_distances.xlsx', sheet_name=current_dataset_name, index_col=0)\n",
    "IXI_valid_face_based_Chamfer_df = IXI_face_based_Chamfer_df.loc[:, only_valid_score_subject_names]\n",
    "IXI_face_based_face_chamfer_distance = IXI_valid_face_based_Chamfer_df.iloc[0, :].values\n",
    "IXI_face_based_head_chamfer_distance = IXI_valid_face_based_Chamfer_df.iloc[1, :].values"
   ]
  },
  {
   "cell_type": "code",
   "execution_count": null,
   "id": "8bb4bab3-d8dc-4602-b0a3-10f2bc007400",
   "metadata": {},
   "outputs": [],
   "source": [
    "IXI_potential_outlier_number = int(np.round(IXI_head_based_head_chamfer_distance.size*0.025))\n",
    "IXI_outlier_appearnce_threshold = 2\n",
    "IXI_head_based_head_outliers = np.argsort(IXI_head_based_head_chamfer_distance)[-IXI_potential_outlier_number:]\n",
    "IXI_head_based_face_outliers = np.argsort(IXI_head_based_face_chamfer_distance)[-IXI_potential_outlier_number:]\n",
    "IXI_face_based_head_outliers = np.argsort(IXI_face_based_head_chamfer_distance)[-IXI_potential_outlier_number:]\n",
    "IXI_face_based_face_outliers = np.argsort(IXI_face_based_face_chamfer_distance)[-IXI_potential_outlier_number:]\n",
    "\n",
    "IXI_potential_outliers_concatenated = np.sort(np.concatenate((IXI_head_based_head_outliers,\n",
    "                                                              IXI_head_based_face_outliers,\n",
    "                                                              IXI_face_based_head_outliers,\n",
    "                                                              IXI_face_based_face_outliers\n",
    "                                                             ))\n",
    "                                             )\n",
    "\n",
    "IXI_unique_indices, IXI_indices_counts = np.unique(IXI_potential_outliers_concatenated, return_counts=True)\n",
    "IXI_selected_outliers = np.where(IXI_indices_counts>IXI_outlier_appearnce_threshold)[0]\n",
    "IXI_selected_outliers_indices = IXI_unique_indices[IXI_selected_outliers]\n",
    "IXI_non_outlier_indices = np.delete(np.arange(IXI_head_based_head_chamfer_distance.size), IXI_selected_outliers_indices)\n",
    "IXI_selected_outliers_names = np.array(IXI_valid_face_based_Chamfer_df.iloc[:, IXI_non_outlier_indices].columns)"
   ]
  },
  {
   "cell_type": "code",
   "execution_count": null,
   "id": "83bd4d50-eb8c-4f97-887f-73c01aa906b4",
   "metadata": {},
   "outputs": [],
   "source": [
    "IXI_head_based_face_chamfer_distance_filtered = IXI_head_based_face_chamfer_distance[IXI_non_outlier_indices]\n",
    "IXI_head_based_head_chamfer_distance_filtered = IXI_head_based_head_chamfer_distance[IXI_non_outlier_indices]\n",
    "IXI_face_based_face_chamfer_distance_filtered = IXI_face_based_face_chamfer_distance[IXI_non_outlier_indices]\n",
    "IXI_face_based_head_chamfer_distance_filtered = IXI_face_based_head_chamfer_distance[IXI_non_outlier_indices]"
   ]
  },
  {
   "cell_type": "code",
   "execution_count": null,
   "id": "396bbfd2-9e78-4e88-89b1-00c26846d98d",
   "metadata": {},
   "outputs": [],
   "source": [
    "if 0:\n",
    "    array_folder = datasets_folder+current_dataset_name+'/'\n",
    "    array_filename = 'chamfer_distance_subjects_names'\n",
    "    array_filetype = '.npy'\n",
    "\n",
    "    array_path = array_folder + array_filename + array_filetype\n",
    "    \n",
    "    if 1:\n",
    "        with open(array_path, 'wb') as file:\n",
    "            np.save(file, IXI_selected_outliers_names)\n",
    "    else:\n",
    "        with open(array_path, 'rb') as file:\n",
    "            IXI_selected_outliers_names = np.load(file)"
   ]
  },
  {
   "cell_type": "code",
   "execution_count": null,
   "id": "3cffd2e8-c640-4815-ba73-b21df4c36d52",
   "metadata": {},
   "outputs": [],
   "source": [
    "IXI_face_based_head_chamfer_distance_filtered.shape"
   ]
  },
  {
   "cell_type": "markdown",
   "id": "7de56a29-6b23-4f19-8bbd-4cb33d44cc17",
   "metadata": {},
   "source": [
    "# ADNI"
   ]
  },
  {
   "cell_type": "code",
   "execution_count": null,
   "id": "bed8ea62-6c20-4ba2-8e4f-a4d01ea5d7e2",
   "metadata": {},
   "outputs": [],
   "source": [
    "datasets_folder = './MRI_datasets/'\n",
    "current_dataset_name = 'ADNI'\n",
    "dataset_filename = 'Dataset_Chamfer.xlsx' #'Dataset.xlsx'"
   ]
  },
  {
   "cell_type": "code",
   "execution_count": null,
   "id": "f42a5f7f-99ab-4872-b418-f1838468224d",
   "metadata": {},
   "outputs": [],
   "source": [
    "current_subject_dataframe = pd.ExcelFile(datasets_folder+current_dataset_name+'/'+dataset_filename)\n",
    "current_sheet_names = current_subject_dataframe.sheet_names\n",
    "current_num_of_sheets = len(current_sheet_names)\n",
    "\n",
    "skin_coordinates_index = next(i for i in range(len(current_sheet_names)) if current_sheet_names[i]=='Skin coordinates')\n",
    "skin_normals_index = next(i for i in range(len(current_sheet_names)) if current_sheet_names[i]=='Skin normals')\n",
    "skin_geodesic_distances_index = next(i for i in range(len(current_sheet_names)) if current_sheet_names[i]=='Skin distances')\n",
    "inverse_matrices_index = next(i for i in range(len(current_sheet_names)) if current_sheet_names[i]=='Inverse transformations')\n",
    "stats_index = next(i for i in range(len(current_sheet_names)) if current_sheet_names[i]=='Stats')"
   ]
  },
  {
   "cell_type": "code",
   "execution_count": null,
   "id": "e0c4b691-5a18-421e-a616-d3cd67e49efc",
   "metadata": {},
   "outputs": [],
   "source": [
    "skin_coordinates_df = pd.read_excel(datasets_folder+current_dataset_name+'/'+dataset_filename, sheet_name=skin_coordinates_index, index_col=0)\n",
    "skin_normals_df = pd.read_excel(datasets_folder+current_dataset_name+'/'+dataset_filename, sheet_name=skin_normals_index, index_col=0)\n",
    "skin_geodesic_distances_df = pd.read_excel(datasets_folder+current_dataset_name+'/'+dataset_filename, sheet_name=skin_geodesic_distances_index, index_col=0)\n",
    "inverse_transformations_df = pd.read_excel(datasets_folder+current_dataset_name+'/'+dataset_filename, sheet_name=inverse_matrices_index, index_col=0)\n",
    "stats_df = pd.read_excel(datasets_folder+current_dataset_name+'/'+dataset_filename, sheet_name=stats_index, index_col=0)"
   ]
  },
  {
   "cell_type": "code",
   "execution_count": null,
   "id": "475c1026-2da8-4444-a1a6-357813647501",
   "metadata": {},
   "outputs": [],
   "source": [
    "skin_coordinates_columns_names = list(skin_coordinates_df.columns)\n",
    "only_coordinates_columns_indices = []\n",
    "\n",
    "for i in range(len(skin_coordinates_columns_names)):\n",
    "    if 'indices' not in skin_coordinates_columns_names[i]:\n",
    "        only_coordinates_columns_indices.append(i)"
   ]
  },
  {
   "cell_type": "code",
   "execution_count": null,
   "id": "4de4a8c7-956d-487a-8223-02cdfbe7690e",
   "metadata": {},
   "outputs": [],
   "source": [
    "if 1:\n",
    "    max_euclidean_distance = 75e-3 # that's a lot\n",
    "\n",
    "    relevant_indices = []\n",
    "    for desired_landmark_index, desired_landmark_name in enumerate(skin_coordinates_df.index[:num_of_light_landmarks]):\n",
    "        desired_landmark_data = skin_coordinates_df.loc[desired_landmark_name, :]\n",
    "        desired_landmark_subjects_coordinates = desired_landmark_data.iloc[np.array(only_coordinates_columns_indices)]\n",
    "        desired_landmark_subjects_coordinates = np.array(desired_landmark_subjects_coordinates).reshape(-1, 3)\n",
    "        if np.where(np.isnan(desired_landmark_subjects_coordinates)==True)[0].size>0:\n",
    "            valid_coordinates_rows = np.unique(np.where(np.isnan(desired_landmark_subjects_coordinates)==False)[0])\n",
    "        else:\n",
    "            valid_coordinates_rows = np.arange(desired_landmark_subjects_coordinates.shape[0])\n",
    "\n",
    "        valid_rows = valid_coordinates_rows#np.intersect1d(valid_coordinates_rows, only_valid_score_subjects_rows)\n",
    "\n",
    "        desired_landmark_coordinates_mean = np.mean(desired_landmark_subjects_coordinates[valid_rows, :], axis=0)\n",
    "        euclidean_distances = np.linalg.norm(desired_landmark_subjects_coordinates[valid_rows, :]-desired_landmark_coordinates_mean, axis=1)\n",
    "        desired_landmark_relevant_indices = np.where(euclidean_distances<max_euclidean_distance)[0]\n",
    "        relevant_indices.append(desired_landmark_relevant_indices)\n",
    "\n",
    "    only_valid_score_subjects_rows = relevant_indices[0]\n",
    "    for desired_landmark_index, desired_landmark_name in enumerate(skin_coordinates_df.index[:num_of_light_landmarks]):\n",
    "        only_valid_score_subjects_rows = np.intersect1d(relevant_indices[desired_landmark_index], only_valid_score_subjects_rows)\n",
    "else:\n",
    "    score_ratio_threshold = 1\n",
    "    only_valid_score_subjects_rows = np.sort(np.argsort(stats_df.loc['unique_correspondence_final_loss', :].values)[:int(score_ratio_threshold*stats_df.shape[1])])"
   ]
  },
  {
   "cell_type": "code",
   "execution_count": null,
   "id": "b6a40a99-85e9-42a8-bec7-d823b474c920",
   "metadata": {},
   "outputs": [],
   "source": [
    "all_subject_names = np.array((skin_coordinates_df.columns[0::4])[only_valid_score_subjects_rows])\n",
    "only_valid_score_subject_names = [current_subject_name[:-8] for current_subject_name in all_subject_names]\n",
    "only_valid_score_subject_names = np.array(only_valid_score_subject_names)"
   ]
  },
  {
   "cell_type": "code",
   "execution_count": null,
   "id": "d447f882-f02e-400e-8435-29ab6ab3b4d0",
   "metadata": {},
   "outputs": [],
   "source": [
    "if 0:\n",
    "    array_folder = datasets_folder+current_dataset_name+'/'\n",
    "    array_filename = 'only_valid_score_subjects_names'\n",
    "    array_filetype = '.npy'\n",
    "\n",
    "    array_path = array_folder + array_filename + array_filetype\n",
    "    \n",
    "    if 1:\n",
    "        with open(array_path, 'wb') as file:\n",
    "            np.save(file, only_valid_score_subject_names)\n",
    "    else:\n",
    "        with open(array_path, 'rb') as file:\n",
    "            only_valid_score_subject_names = np.load(file)"
   ]
  },
  {
   "cell_type": "code",
   "execution_count": null,
   "id": "47739c73-65b8-4835-8ef5-11e520d89060",
   "metadata": {},
   "outputs": [],
   "source": [
    "ADNI_valid_df = stats_df.loc[:, only_valid_score_subject_names]"
   ]
  },
  {
   "cell_type": "code",
   "execution_count": null,
   "id": "2b31141d-9be5-47e4-a951-0c3318eb4d64",
   "metadata": {},
   "outputs": [],
   "source": [
    "ADNI_Chamfer_df = ADNI_valid_df.iloc[:2, :]"
   ]
  },
  {
   "cell_type": "code",
   "execution_count": null,
   "id": "9bdde47a-f775-4d7a-be3e-a854be2a5971",
   "metadata": {},
   "outputs": [],
   "source": [
    "ADNI_head_based_face_chamfer_distance = ADNI_Chamfer_df.iloc[0, :].values\n",
    "ADNI_head_based_head_chamfer_distance = ADNI_Chamfer_df.iloc[1, :].values"
   ]
  },
  {
   "cell_type": "code",
   "execution_count": null,
   "id": "ce8209a6-4825-4f28-90ee-087b96530175",
   "metadata": {},
   "outputs": [],
   "source": [
    "datasets_folder = './MRI_datasets/'\n",
    "ADNI_face_based_Chamfer_df = pd.read_excel(datasets_folder+'Face_based_Chamfer_distances.xlsx', sheet_name=current_dataset_name, index_col=0)\n",
    "ADNI_valid_face_based_Chamfer_df = ADNI_face_based_Chamfer_df.loc[:, only_valid_score_subject_names]\n",
    "ADNI_face_based_face_chamfer_distance = ADNI_valid_face_based_Chamfer_df.iloc[0, :].values\n",
    "ADNI_face_based_head_chamfer_distance = ADNI_valid_face_based_Chamfer_df.iloc[1, :].values"
   ]
  },
  {
   "cell_type": "code",
   "execution_count": null,
   "id": "011e8959-b413-42c5-a7e6-d28c70ef742d",
   "metadata": {},
   "outputs": [],
   "source": [
    "ADNI_potential_outlier_number = int(np.round(ADNI_head_based_head_chamfer_distance.size*0.025))\n",
    "ADNI_outlier_appearnce_threshold = 2\n",
    "ADNI_head_based_head_outliers = np.argsort(ADNI_head_based_head_chamfer_distance)[-ADNI_potential_outlier_number:]\n",
    "ADNI_head_based_face_outliers = np.argsort(ADNI_head_based_face_chamfer_distance)[-ADNI_potential_outlier_number:]\n",
    "ADNI_face_based_head_outliers = np.argsort(ADNI_face_based_head_chamfer_distance)[-ADNI_potential_outlier_number:]\n",
    "ADNI_face_based_face_outliers = np.argsort(ADNI_face_based_face_chamfer_distance)[-ADNI_potential_outlier_number:]\n",
    "\n",
    "ADNI_potential_outliers_concatenated = np.sort(np.concatenate((ADNI_head_based_head_outliers,\n",
    "                                                              ADNI_head_based_face_outliers,\n",
    "                                                              ADNI_face_based_head_outliers,\n",
    "                                                              ADNI_face_based_face_outliers\n",
    "                                                             ))\n",
    "                                             )\n",
    "\n",
    "ADNI_unique_indices, ADNI_indices_counts = np.unique(ADNI_potential_outliers_concatenated, return_counts=True)\n",
    "ADNI_selected_outliers = np.where(ADNI_indices_counts>ADNI_outlier_appearnce_threshold)[0]\n",
    "ADNI_selected_outliers_indices = ADNI_unique_indices[ADNI_selected_outliers]\n",
    "ADNI_non_outlier_indices = np.delete(np.arange(ADNI_head_based_head_chamfer_distance.size), ADNI_selected_outliers_indices)\n",
    "ADNI_selected_outliers_names = np.array(ADNI_valid_face_based_Chamfer_df.iloc[:, ADNI_non_outlier_indices].columns)"
   ]
  },
  {
   "cell_type": "code",
   "execution_count": null,
   "id": "f98bec30-ddb5-4802-8362-da592b36457b",
   "metadata": {},
   "outputs": [],
   "source": [
    "ADNI_head_based_face_chamfer_distance_filtered = ADNI_head_based_face_chamfer_distance[ADNI_non_outlier_indices]\n",
    "ADNI_head_based_head_chamfer_distance_filtered = ADNI_head_based_head_chamfer_distance[ADNI_non_outlier_indices]\n",
    "ADNI_face_based_face_chamfer_distance_filtered = ADNI_face_based_face_chamfer_distance[ADNI_non_outlier_indices]\n",
    "ADNI_face_based_head_chamfer_distance_filtered = ADNI_face_based_head_chamfer_distance[ADNI_non_outlier_indices]"
   ]
  },
  {
   "cell_type": "code",
   "execution_count": null,
   "id": "ca423276-4bb5-4677-8e84-1f7440eb7b96",
   "metadata": {},
   "outputs": [],
   "source": [
    "if 0:\n",
    "    array_folder = datasets_folder+current_dataset_name+'/'\n",
    "    array_filename = 'chamfer_distance_subjects_names'\n",
    "    array_filetype = '.npy'\n",
    "\n",
    "    array_path = array_folder + array_filename + array_filetype\n",
    "    \n",
    "    if 1:\n",
    "        with open(array_path, 'wb') as file:\n",
    "            np.save(file, ADNI_selected_outliers_names)\n",
    "    else:\n",
    "        with open(array_path, 'rb') as file:\n",
    "            ADNI_selected_outliers_names = np.load(file)"
   ]
  },
  {
   "cell_type": "markdown",
   "id": "5de61b8e-5f50-47e2-8108-b60203a7d881",
   "metadata": {},
   "source": [
    "## Composition"
   ]
  },
  {
   "cell_type": "code",
   "execution_count": null,
   "id": "e412df9f-fcb0-430d-aa40-6f0209402e4b",
   "metadata": {},
   "outputs": [],
   "source": [
    "metadata_filename = 'PTDEMOG.csv'\n",
    "current_subject_metadata = pd.read_csv(datasets_folder+current_dataset_name+'/'+metadata_filename)\n",
    "ADNI_subject_metadata = current_subject_metadata.loc[current_subject_metadata['Phase'] == 'ADNI1']\n",
    "\n",
    "filtered_subjects_ages = []\n",
    "for i in ADNI_selected_outliers_names:\n",
    "    subject_RID = int(i.split('_')[2])\n",
    "    current_subject = ADNI_subject_metadata.loc[ADNI_subject_metadata['RID'] == subject_RID]\n",
    "    current_subject_birth_year = int(current_subject.loc[:, 'PTDOBYY'].values[0])\n",
    "    current_subject_birth_month = int(current_subject.loc[:, 'PTDOBMM'].values[0])\n",
    "    current_subject_birth_day = 14\n",
    "    \n",
    "    current_subject_scan_date = current_subject.loc[:, 'USERDATE'].values[0]\n",
    "    current_subject_scan_year = int(current_subject_scan_date.split('/')[2])\n",
    "    current_subject_scan_month = int(current_subject_scan_date.split('/')[1])\n",
    "    current_subject_scan_day = int(current_subject_scan_date.split('/')[0])\n",
    "    \n",
    "    delta_years = current_subject_scan_year-current_subject_birth_year\n",
    "    delta_months = current_subject_scan_month-current_subject_birth_month\n",
    "    delta_days = current_subject_scan_day-current_subject_birth_day\n",
    "    \n",
    "    scan_age = delta_years+delta_months/12+delta_days/365\n",
    "    filtered_subjects_ages.append(scan_age)\n",
    "    \n",
    "filtered_subjects_ages = np.array(filtered_subjects_ages)"
   ]
  }
 ],
 "metadata": {
  "kernelspec": {
   "display_name": "Python 3 (ipykernel)",
   "language": "python",
   "name": "python3"
  },
  "language_info": {
   "codemirror_mode": {
    "name": "ipython",
    "version": 3
   },
   "file_extension": ".py",
   "mimetype": "text/x-python",
   "name": "python",
   "nbconvert_exporter": "python",
   "pygments_lexer": "ipython3",
   "version": "3.8.10"
  }
 },
 "nbformat": 4,
 "nbformat_minor": 5
}
